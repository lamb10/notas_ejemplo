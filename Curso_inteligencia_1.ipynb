{
  "nbformat": 4,
  "nbformat_minor": 0,
  "metadata": {
    "colab": {
      "provenance": [],
      "authorship_tag": "ABX9TyPcCI0ilL03EPGtZWaxRR+n",
      "include_colab_link": true
    },
    "kernelspec": {
      "name": "python3",
      "display_name": "Python 3"
    },
    "language_info": {
      "name": "python"
    }
  },
  "cells": [
    {
      "cell_type": "markdown",
      "metadata": {
        "id": "view-in-github",
        "colab_type": "text"
      },
      "source": [
        "<a href=\"https://colab.research.google.com/github/lamb10/notas_ejemplo/blob/main/Curso_inteligencia_1.ipynb\" target=\"_parent\"><img src=\"https://colab.research.google.com/assets/colab-badge.svg\" alt=\"Open In Colab\"/></a>"
      ]
    },
    {
      "cell_type": "code",
      "source": [
        "import numpy as np\n",
        "\n",
        "arr=  np.array([1,2,3,4,5])\n",
        "print(f\"suma: {np.sum(arr)}\")\n",
        "print(f\"Media:{np.mean(arr)}\")\n"
      ],
      "metadata": {
        "id": "z-xLb25X4MWG",
        "colab": {
          "base_uri": "https://localhost:8080/"
        },
        "outputId": "88834d71-5607-4c0a-c696-e8d4c3c098c7"
      },
      "execution_count": null,
      "outputs": [
        {
          "output_type": "stream",
          "name": "stdout",
          "text": [
            "suma: 15\n",
            "Media:3.0\n"
          ]
        }
      ]
    },
    {
      "cell_type": "code",
      "source": [
        "import pandas as pd\n",
        "\n",
        "df= pd.DataFrame({\n",
        "    \"nombre\":[\"Ana\",\"Luis\",\"jose\"],\n",
        "    \"edad\": [3,5,6]\n",
        "})\n",
        "\n",
        "print(df)\n",
        "print(f\"edad promedio: {df['edad'].mean()}\")"
      ],
      "metadata": {
        "colab": {
          "base_uri": "https://localhost:8080/"
        },
        "id": "J6HD5RuuoeNO",
        "outputId": "d34e1738-01d1-439c-f71c-a5cbb53fae9c"
      },
      "execution_count": null,
      "outputs": [
        {
          "output_type": "stream",
          "name": "stdout",
          "text": [
            "  nombre  edad\n",
            "0    Ana     3\n",
            "1   Luis     5\n",
            "2   jose     6\n",
            "edad promedio: 4.666666666666667\n"
          ]
        }
      ]
    },
    {
      "cell_type": "code",
      "source": [
        "import matplotlib.pyplot as plt\n",
        "\n",
        "nombres=['Ana','Luis','Jose']\n",
        "edades=[3,5,6]\n",
        "\n",
        "plt.bar(nombres,edades, color='green')\n",
        "plt.title('edades de los participantes')\n",
        "plt.xlabel('nombre')\n",
        "plt.ylabel('edades')\n",
        "plt.show()\n"
      ],
      "metadata": {
        "id": "oUmyQfNq_xm3",
        "colab": {
          "base_uri": "https://localhost:8080/",
          "height": 472
        },
        "outputId": "1c10ef82-838b-4d2a-e1e5-cb4678860542"
      },
      "execution_count": null,
      "outputs": [
        {
          "output_type": "display_data",
          "data": {
            "text/plain": [
              "<Figure size 640x480 with 1 Axes>"
            ],
            "image/png": "[encoded data removed]"
          },
          "metadata": {}
        }
      ]
    },
    {
      "cell_type": "code",
      "source": [
        "\n",
        "from sklearn.linear_model import LinearRegression\n",
        "import numpy as np\n",
        "\n",
        "x= np.array([[1],[2],[3],[4]])\n",
        "y=np.array([2,4,6,8]) # relacion lineal\n",
        "\n",
        "modelo=LinearRegression()\n",
        "modelo.fit(x,y)\n",
        "\n",
        "predicion= modelo.predict([[5]])\n",
        "print(f\"prediccion para x=5: {predicion}\")"
      ],
      "metadata": {
        "colab": {
          "base_uri": "https://localhost:8080/"
        },
        "id": "mH1n_MQj_Y6f",
        "outputId": "38a5a06a-98ed-4e98-9e3f-98f5ae93818e"
      },
      "execution_count": null,
      "outputs": [
        {
          "output_type": "stream",
          "name": "stdout",
          "text": [
            "prediccion para x=5: [10.]\n"
          ]
        }
      ]
    },
    {
      "cell_type": "code",
      "source": [
        "from tensorflow.keras.models import Sequential\n",
        "from tensorflow.keras.layers import Dense\n",
        "import numpy as np\n",
        "\n",
        "# datos simples\n",
        "x= np.array([[0],[1]])\n",
        "y=np.array([[0],[1]])\n",
        "\n",
        "#modelo\n",
        "\n",
        "modelo= Sequential()\n",
        "modelo.add(Dense(units=1, input_shape=[1]))\n",
        "modelo.compile(optimizer='sgd', loss='mean_squared_error')\n",
        "modelo.fit(x,y, epochs=500, verbose=0)\n",
        "\n",
        "#salida\n",
        "print(f\"prediccion para 2: {modelo.predict(np.array([[2]]))}\",)\n",
        "\n",
        "\n"
      ],
      "metadata": {
        "colab": {
          "base_uri": "https://localhost:8080/"
        },
        "id": "dq8UQY7iD7mm",
        "outputId": "f02d2f38-4595-49c5-f2b9-03599829c22f"
      },
      "execution_count": null,
      "outputs": [
        {
          "output_type": "stream",
          "name": "stdout",
          "text": [
            "\u001b[1m1/1\u001b[0m \u001b[32m━━━━━━━━━━━━━━━━━━━━\u001b[0m\u001b[37m\u001b[0m \u001b[1m0s\u001b[0m 56ms/step\n",
            "prediccion para 2: [[1.7696017]]\n"
          ]
        }
      ]
    },
    {
      "cell_type": "code",
      "source": [
        "# Aventura con Python: ¡Tu primera misión!\n",
        "print(\"¡Bienvenido/a a la Isla Python! \")\n",
        "print(\"Tu misión es salir con vida de esta isla resolviendo desafíos con tu conocimiento.\")\n",
        "\n",
        "# Paso 1: Variables\n",
        "nombre = input(\"Primero dime tu nombre, aventurero/a: \")\n",
        "print(f\"Hola {nombre}, has encontrado una entrada misteriosa en una cueva...\")\n",
        "\n",
        "# Paso 2: Condicional simple\n",
        "edad = int(input(\"Para entrar en la cueva, dime tu edad: \"))\n",
        "if edad >= 18:\n",
        "    print(\"¡Perfecto! Tienes la edad suficiente para entrar. \")\n",
        "else:\n",
        "    print(\"Hmm... eres muy joven. La puerta mágica no se abre. \")\n",
        "\n",
        "# Paso 3: Desafío con lógica\n",
        "clave = input(\"Introduce la palabra mágica para abrir la segunda puerta: \")\n",
        "if clave.lower() == \"python\":\n",
        "    print(\"¡Correcto! La puerta se abre con un chirrido misterioso... \")\n",
        "else:\n",
        "    print(\"La puerta permanece cerrada. ¡Sigue buscando la clave correcta!\")\n",
        "\n",
        "# Paso 4: Función simple\n",
        "def calcular_fuerza(peso, altura):\n",
        "    return peso / (altura ** 2)\n",
        "\n",
        "print(\"Antes de continuar, necesitas saber tu nivel de fuerza.\")\n",
        "peso = float(input(\"Introduce tu peso en kilogramos: \"))\n",
        "altura = float(input(\"Introduce tu altura en metros: \"))\n",
        "fuerza = calcular_fuerza(peso, altura)\n",
        "print(f\"Tu índice de fuerza es: {round(fuerza, 2)}\")\n",
        "\n"
      ],
      "metadata": {
        "colab": {
          "base_uri": "https://localhost:8080/"
        },
        "id": "r17iVTaVKNcb",
        "outputId": "f81f5ab8-6e07-4ee0-f6f7-bd8ea94f78d8"
      },
      "execution_count": null,
      "outputs": [
        {
          "output_type": "stream",
          "name": "stdout",
          "text": [
            "¡Bienvenido/a a la Isla Python! \n",
            "Tu misión es salir con vida de esta isla resolviendo desafíos con tu conocimiento.\n",
            "Primero dime tu nombre, aventurero/a: luis\n",
            "Hola luis, has encontrado una entrada misteriosa en una cueva...\n",
            "Para entrar en la cueva, dime tu edad: 8\n",
            "Hmm... eres muy joven. La puerta mágica no se abre. \n",
            "Introduce la palabra mágica para abrir la segunda puerta: nose\n",
            "La puerta permanece cerrada. ¡Sigue buscando la clave correcta!\n",
            "Antes de continuar, necesitas saber tu nivel de fuerza.\n",
            "Introduce tu peso en kilogramos: 70\n",
            "Introduce tu altura en metros: 1.78\n",
            "Tu índice de fuerza es: 22.09\n"
          ]
        }
      ]
    },
    {
      "cell_type": "code",
      "source": [
        "print(\"¡Bienvenido/a a la Isla Python! \")\n",
        "print(\"Tu misión es salir con vida de esta isla resolviendo desafíos con tu conocimiento.\")\n",
        "\n",
        "# Paso 1: Variables\n",
        "nombre = input(\"Primero dime tu nombre, aventurero/a: \")\n",
        "print(f\"Hola {nombre}, has encontrado una entrada misteriosa en una cueva...\")\n",
        "\n",
        "# Paso 2: Condicional simple\n",
        "edad = int(input(\"Para entrar en la cueva, dime tu edad: \"))\n",
        "if edad >= 18:\n",
        "    print(\"¡Perfecto! Tienes la edad suficiente para entrar. \")\n",
        "else:\n",
        "    print(\"Hmm... eres muy joven. La puerta mágica no se abre. \")\n",
        "    exit()  # termina el juego si es menor de edad\n",
        "\n",
        "# Paso 3: Desafío con lógica\n",
        "# Solo se repite esta parte si la clave es incorrecta\n",
        "while True:\n",
        "    clave = input(\"Introduce la palabra mágica para abrir la segunda puerta: \")\n",
        "    if clave.lower() == \"python\":\n",
        "        print(\"¡Correcto! La puerta se abre con un chirrido misterioso... \")\n",
        "        break  # sale del ciclo si acierta\n",
        "    else:\n",
        "        print(\"La puerta permanece cerrada. ¡Sigue buscando la clave correcta!\")\n",
        "        print(\"💡 Pista: busca la clave dentro del código...\")\n",
        "\n",
        "# Paso 4: Función simple\n",
        "def calcular_fuerza(peso, altura):\n",
        "    return peso / (altura ** 2)\n",
        "\n",
        "print(\"Antes de continuar, necesitas saber tu nivel de fuerza.\")\n",
        "peso = float(input(\"Introduce tu peso en kilogramos: \"))\n",
        "altura = float(input(\"Introduce tu altura en metros: \"))\n",
        "fuerza = calcular_fuerza(peso, altura)\n",
        "print(f\"Tu índice de fuerza es: {round(fuerza, 2)}\")\n",
        "\n",
        "# Final divertido\n",
        "if fuerza >= 25:\n",
        "    print(\"¡Eres fuerte como un titán! Logras escapar de la isla con un salto épico.\")\n",
        "else:\n",
        "    print(\"Aún te falta entrenamiento... pero logras salir gracias a tu inteligencia.\")"
      ],
      "metadata": {
        "colab": {
          "base_uri": "https://localhost:8080/",
          "height": 425
        },
        "id": "la0jTJAfhL9c",
        "outputId": "ea484cef-cc3a-4433-8a4a-bb27185e73e6"
      },
      "execution_count": null,
      "outputs": [
        {
          "output_type": "stream",
          "name": "stdout",
          "text": [
            "¡Bienvenido/a a la Isla Python! \n",
            "Tu misión es salir con vida de esta isla resolviendo desafíos con tu conocimiento.\n"
          ]
        },
        {
          "output_type": "error",
          "ename": "KeyboardInterrupt",
          "evalue": "Interrupted by user",
          "traceback": [
            "\u001b[0;31m---------------------------------------------------------------------------\u001b[0m",
            "\u001b[0;31mKeyboardInterrupt\u001b[0m                         Traceback (most recent call last)",
            "\u001b[0;32m/tmp/ipython-input-5-862549517.py\u001b[0m in \u001b[0;36m<cell line: 0>\u001b[0;34m()\u001b[0m\n\u001b[1;32m      3\u001b[0m \u001b[0;34m\u001b[0m\u001b[0m\n\u001b[1;32m      4\u001b[0m \u001b[0;31m# Paso 1: Variables\u001b[0m\u001b[0;34m\u001b[0m\u001b[0;34m\u001b[0m\u001b[0m\n\u001b[0;32m----> 5\u001b[0;31m \u001b[0mnombre\u001b[0m \u001b[0;34m=\u001b[0m \u001b[0minput\u001b[0m\u001b[0;34m(\u001b[0m\u001b[0;34m\"Primero dime tu nombre, aventurero/a: \"\u001b[0m\u001b[0;34m)\u001b[0m\u001b[0;34m\u001b[0m\u001b[0;34m\u001b[0m\u001b[0m\n\u001b[0m\u001b[1;32m      6\u001b[0m \u001b[0mprint\u001b[0m\u001b[0;34m(\u001b[0m\u001b[0;34mf\"Hola {nombre}, has encontrado una entrada misteriosa en una cueva...\"\u001b[0m\u001b[0;34m)\u001b[0m\u001b[0;34m\u001b[0m\u001b[0;34m\u001b[0m\u001b[0m\n\u001b[1;32m      7\u001b[0m \u001b[0;34m\u001b[0m\u001b[0m\n",
            "\u001b[0;32m/usr/local/lib/python3.11/dist-packages/ipykernel/kernelbase.py\u001b[0m in \u001b[0;36mraw_input\u001b[0;34m(self, prompt)\u001b[0m\n\u001b[1;32m   1175\u001b[0m                 \u001b[0;34m\"raw_input was called, but this frontend does not support input requests.\"\u001b[0m\u001b[0;34m\u001b[0m\u001b[0;34m\u001b[0m\u001b[0m\n\u001b[1;32m   1176\u001b[0m             )\n\u001b[0;32m-> 1177\u001b[0;31m         return self._input_request(\n\u001b[0m\u001b[1;32m   1178\u001b[0m             \u001b[0mstr\u001b[0m\u001b[0;34m(\u001b[0m\u001b[0mprompt\u001b[0m\u001b[0;34m)\u001b[0m\u001b[0;34m,\u001b[0m\u001b[0;34m\u001b[0m\u001b[0;34m\u001b[0m\u001b[0m\n\u001b[1;32m   1179\u001b[0m             \u001b[0mself\u001b[0m\u001b[0;34m.\u001b[0m\u001b[0m_parent_ident\u001b[0m\u001b[0;34m[\u001b[0m\u001b[0;34m\"shell\"\u001b[0m\u001b[0;34m]\u001b[0m\u001b[0;34m,\u001b[0m\u001b[0;34m\u001b[0m\u001b[0;34m\u001b[0m\u001b[0m\n",
            "\u001b[0;32m/usr/local/lib/python3.11/dist-packages/ipykernel/kernelbase.py\u001b[0m in \u001b[0;36m_input_request\u001b[0;34m(self, prompt, ident, parent, password)\u001b[0m\n\u001b[1;32m   1217\u001b[0m             \u001b[0;32mexcept\u001b[0m \u001b[0mKeyboardInterrupt\u001b[0m\u001b[0;34m:\u001b[0m\u001b[0;34m\u001b[0m\u001b[0;34m\u001b[0m\u001b[0m\n\u001b[1;32m   1218\u001b[0m                 \u001b[0;31m# re-raise KeyboardInterrupt, to truncate traceback\u001b[0m\u001b[0;34m\u001b[0m\u001b[0;34m\u001b[0m\u001b[0m\n\u001b[0;32m-> 1219\u001b[0;31m                 \u001b[0;32mraise\u001b[0m \u001b[0mKeyboardInterrupt\u001b[0m\u001b[0;34m(\u001b[0m\u001b[0;34m\"Interrupted by user\"\u001b[0m\u001b[0;34m)\u001b[0m \u001b[0;32mfrom\u001b[0m \u001b[0;32mNone\u001b[0m\u001b[0;34m\u001b[0m\u001b[0;34m\u001b[0m\u001b[0m\n\u001b[0m\u001b[1;32m   1220\u001b[0m             \u001b[0;32mexcept\u001b[0m \u001b[0mException\u001b[0m\u001b[0;34m:\u001b[0m\u001b[0;34m\u001b[0m\u001b[0;34m\u001b[0m\u001b[0m\n\u001b[1;32m   1221\u001b[0m                 \u001b[0mself\u001b[0m\u001b[0;34m.\u001b[0m\u001b[0mlog\u001b[0m\u001b[0;34m.\u001b[0m\u001b[0mwarning\u001b[0m\u001b[0;34m(\u001b[0m\u001b[0;34m\"Invalid Message:\"\u001b[0m\u001b[0;34m,\u001b[0m \u001b[0mexc_info\u001b[0m\u001b[0;34m=\u001b[0m\u001b[0;32mTrue\u001b[0m\u001b[0;34m)\u001b[0m\u001b[0;34m\u001b[0m\u001b[0;34m\u001b[0m\u001b[0m\n",
            "\u001b[0;31mKeyboardInterrupt\u001b[0m: Interrupted by user"
          ]
        }
      ]
    },
    {
      "cell_type": "code",
      "source": [
        "\n",
        "# Deep Learning\n",
        "from tensorflow.keras.models import Sequential\n",
        "from tensorflow.keras.layers import Dense\n",
        "import numpy as np\n",
        "# PREDICION SI SE GANA O NO LA MATERIA\n",
        "# 3 notas parciales → nota final\n",
        "x = np.array([\n",
        "    [2.0, 2.5, 2.0],\n",
        "    [2.5, 2.5, 2.8],\n",
        "    [3.0, 3.0, 3.0],\n",
        "    [3.5, 3.2, 3.8],\n",
        "    [4.0, 4.2, 4.0],\n",
        "    [4.5, 4.5, 4.6]\n",
        "])\n",
        "\n",
        "y = np.array([[2.2], [2.7], [3.1], [3.6], [4.1], [4.6]])  # Nota final\n",
        "\n",
        "# Modelo\n",
        "modelo = Sequential()\n",
        "modelo.add(Dense(units=1, input_shape=[3]))\n",
        "modelo.compile(optimizer='sgd', loss='mean_squared_error')\n",
        "modelo.fit(x, y, epochs=300, verbose=0)\n",
        "\n",
        "# Ingreso de notas\n",
        "print(\"Ingrese sus 3 notas :\")\n",
        "nota1 = float(input(\"Nota 1: \"))\n",
        "nota2 = float(input(\"Nota 2: \"))\n",
        "nota3 = float(input(\"Nota 3: \"))\n",
        "\n",
        "# Predicción\n",
        "entrada = np.array([[nota1, nota2, nota3]])\n",
        "prediccion = modelo.predict(entrada)\n",
        "\n",
        "# Resultado\n",
        "print(f\"\\n Su promedio de las 3 notas  [{nota1}, {nota2}, {nota3}] es : {prediccion[0][0]:.2f}\")\n",
        "\n",
        "if prediccion[0][0] < 3.0:\n",
        "    print(\"  probablemente pierda la materia, estudia mas \")\n",
        "else:\n",
        "    print(\"  probablemente gane la materia, felicidades\")\n",
        "\n"
      ],
      "metadata": {
        "colab": {
          "base_uri": "https://localhost:8080/"
        },
        "id": "jmKS9Q5iA3Un",
        "outputId": "0e6d70a3-f3d8-4019-90ab-edd57b0b36b5"
      },
      "execution_count": null,
      "outputs": [
        {
          "output_type": "stream",
          "name": "stdout",
          "text": [
            "Ingrese sus 3 notas :\n",
            "Nota 1: 4.5\n",
            "Nota 2: 3.2\n",
            "Nota 3: 3.3\n",
            "\u001b[1m1/1\u001b[0m \u001b[32m━━━━━━━━━━━━━━━━━━━━\u001b[0m\u001b[37m\u001b[0m \u001b[1m0s\u001b[0m 66ms/step\n",
            "\n",
            " Su promedio de las 3 notas  [4.5, 3.2, 3.3] es : 3.20\n",
            "  probablemente gane la materia, felicidades\n"
          ]
        }
      ]
    }
  ]
}